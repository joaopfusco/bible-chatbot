{
  "nbformat": 4,
  "nbformat_minor": 0,
  "metadata": {
    "colab": {
      "provenance": [],
      "authorship_tag": "ABX9TyNNKVDQe1oR3IrjuDDdwK8Y",
      "include_colab_link": true
    },
    "kernelspec": {
      "name": "python3",
      "display_name": "Python 3"
    },
    "language_info": {
      "name": "python"
    }
  },
  "cells": [
    {
      "cell_type": "markdown",
      "metadata": {
        "id": "view-in-github",
        "colab_type": "text"
      },
      "source": [
        "<a href=\"https://colab.research.google.com/github/joaopfusco/bible-chatbot/blob/main/BibleChatBot.ipynb\" target=\"_parent\"><img src=\"https://colab.research.google.com/assets/colab-badge.svg\" alt=\"Open In Colab\"/></a>"
      ]
    },
    {
      "cell_type": "markdown",
      "source": [
        "# Instalação da api do google"
      ],
      "metadata": {
        "id": "T7TLKHkmofw0"
      }
    },
    {
      "cell_type": "code",
      "execution_count": 1,
      "metadata": {
        "id": "ACvr_oMyRXdJ"
      },
      "outputs": [],
      "source": [
        "!pip install -q -U google-generativeai"
      ]
    },
    {
      "cell_type": "markdown",
      "source": [
        "# Importação das Bibliotecas Necessárias para Utilização do ChatBot"
      ],
      "metadata": {
        "id": "LNJR5LE4oonY"
      }
    },
    {
      "cell_type": "code",
      "source": [
        "from google.colab import userdata\n",
        "import google.generativeai as genai\n",
        "import textwrap\n",
        "from IPython.display import display, Markdown\n",
        "import numpy as np\n",
        "import pandas as pd"
      ],
      "metadata": {
        "id": "KaZGa0aqVk-C"
      },
      "execution_count": 2,
      "outputs": []
    },
    {
      "cell_type": "markdown",
      "source": [
        "# Configurando GenAI com API Key"
      ],
      "metadata": {
        "id": "OcyTBGX_ozjV"
      }
    },
    {
      "cell_type": "code",
      "source": [
        "api_key = userdata.get('API_KEY')\n",
        "genai.configure(api_key=api_key)"
      ],
      "metadata": {
        "id": "f0FaK4L4TPdT"
      },
      "execution_count": 4,
      "outputs": []
    },
    {
      "cell_type": "markdown",
      "source": [
        "# Função de MarkDown para melhor vizualização"
      ],
      "metadata": {
        "id": "UFv_CgMgq0kf"
      }
    },
    {
      "cell_type": "code",
      "source": [
        "def markdown(text):\n",
        "  text = text.replace('•', ' *')\n",
        "  return Markdown(textwrap.indent(text, '> ', predicate=lambda _ : True))"
      ],
      "metadata": {
        "id": "-s431-6iVyAE"
      },
      "execution_count": 5,
      "outputs": []
    },
    {
      "cell_type": "markdown",
      "source": [
        "# Dois Chats\n",
        "\n",
        "*   Chat 1: utiliza do embedding para consultas mais precisas relacionadas\n",
        "aos quatro primeiros evangelhos do Novo Testamento (Mateus, Marcos, Lucas e João)\n",
        "*   Chat 2: conhecimento geral da Bíblia Sagrada para perguntas gerais sobre\n",
        "o Evangelho\n",
        "\n"
      ],
      "metadata": {
        "id": "3pxBktsWo_ni"
      }
    },
    {
      "cell_type": "markdown",
      "source": [
        "# CHAT 1"
      ],
      "metadata": {
        "id": "Jm3uKzIop_we"
      }
    },
    {
      "cell_type": "markdown",
      "source": [
        "# Definição da lista de Documentos sobre os quatro primeiros evangelhos do Novo Testamento"
      ],
      "metadata": {
        "id": "n5FKC6O8psQV"
      }
    },
    {
      "cell_type": "code",
      "source": [
        "documents = [\n",
        "  {\n",
        "    \"title\": \"Evangelho segundo Marcos\",\n",
        "    \"content\": \"O Evangelho segundo Marcos apresenta a história de Jesus Cristo, Filho de Deus, começando com o ministério de João Batista e o batismo de Jesus. Marcos destaca as ações e milagres de Jesus, como curas, exorcismos e a multiplicação dos pães. Ele enfatiza a autoridade de Jesus em seu ensino e seus confrontos com as autoridades religiosas da época. O evangelho culmina com a Paixão, morte e ressurreição de Jesus, enfatizando o significado da sua morte sacrificial e a importância da fé nele.\"\n",
        "  },\n",
        "  {\n",
        "    \"title\": \"Evangelho segundo Lucas\",\n",
        "    \"content\": \"O Evangelho de Lucas oferece uma narrativa detalhada da vida e ministério de Jesus Cristo. Dirigido a Teófilo, o evangelho traça a linhagem de Jesus, narrando seu nascimento, infância e batismo. Lucas enfatiza a compaixão de Jesus pelos pobres e marginalizados, destacando seus ensinamentos sobre o amor, o perdão e a importância da oração. O evangelho culmina com a entrada triunfal de Jesus em Jerusalém, sua Paixão, morte e ressurreição, culminando com sua ascensão ao céu.\"\n",
        "  },\n",
        "  {\n",
        "    \"title\": \"Evangelho segundo João\",\n",
        "    \"content\": \"O Evangelho de João apresenta uma perspectiva única sobre Jesus, enfatizando sua divindade como a Palavra de Deus encarnada. O evangelho destaca os \\\"sinais\\\" ou milagres de Jesus como demonstrações de sua glória, levando as pessoas à fé. João enfatiza o amor de Jesus por seus discípulos e seus ensinamentos sobre o Espírito Santo como consolador. A narrativa culmina com a Paixão, morte e ressurreição de Jesus, enfatizando o significado de sua morte como sacrifício pela vida do mundo.\"\n",
        "  },\n",
        "  {\n",
        "    \"title\": \"Evangelho Segundo Mateus\",\n",
        "    \"content\": \"O Evangelho de Mateus apresenta Jesus como o Messias prometido, cumprindo as profecias do Antigo Testamento. O evangelho traça a linhagem de Jesus de volta a Abraão e narra seu nascimento miraculoso, fuga para o Egito e retorno a Nazaré. Mateus enfatiza o ensino de Jesus, incluindo o Sermão da Montanha, e organiza o evangelho em torno de cinco discursos principais. O evangelho culmina com a Paixão, morte e ressurreição de Jesus, enfatizando a importância de sua missão e o estabelecimento de sua Igreja.\"\n",
        "  }\n",
        "]"
      ],
      "metadata": {
        "id": "Ce2glTkQina_"
      },
      "execution_count": 6,
      "outputs": []
    },
    {
      "cell_type": "markdown",
      "source": [
        "# Criação do DataFrame e Função de Consulta"
      ],
      "metadata": {
        "id": "nmTJ_iJSqPAu"
      }
    },
    {
      "cell_type": "code",
      "source": [
        "def embed(title, text):\n",
        "  return genai.embed_content(model='models/embedding-001',\n",
        "                              title=title,\n",
        "                              content=text,\n",
        "                              task_type='RETRIEVAL_DOCUMENT')['embedding']"
      ],
      "metadata": {
        "id": "0RhpDyAZjQ4G"
      },
      "execution_count": 7,
      "outputs": []
    },
    {
      "cell_type": "code",
      "source": [
        "def consult(consulta):\n",
        "  embedding = genai.embed_content(model='models/embedding-001',\n",
        "                              content=consulta,\n",
        "                              task_type='RETRIEVAL_QUERY')['embedding']\n",
        "  produts = np.dot(np.stack(df['Embeddings']), embedding)\n",
        "  indice = np.argmax(produts)\n",
        "  return df.iloc[indice]['Conteúdo']"
      ],
      "metadata": {
        "id": "xWNdYPPWkrb-"
      },
      "execution_count": 8,
      "outputs": []
    },
    {
      "cell_type": "code",
      "source": [
        "df = pd.DataFrame(documents)\n",
        "df.columns = ['Título', 'Conteúdo']\n",
        "df['Embeddings'] = df.apply(lambda row: embed(row['Título'], row['Conteúdo']), axis=1)\n",
        "df"
      ],
      "metadata": {
        "id": "v7bk-RmDi4dx"
      },
      "execution_count": null,
      "outputs": []
    },
    {
      "cell_type": "markdown",
      "source": [
        "# CHAT 2"
      ],
      "metadata": {
        "id": "xYqcah-kqii4"
      }
    },
    {
      "cell_type": "markdown",
      "source": [
        "# Configurações inicias do modelo"
      ],
      "metadata": {
        "id": "c1ROIFLXqmtD"
      }
    },
    {
      "cell_type": "code",
      "source": [
        "generation_config = {\n",
        "  \"temperature\": 1,\n",
        "  \"top_p\": 0.95,\n",
        "  \"top_k\": 0,\n",
        "  \"max_output_tokens\": 8192,\n",
        "}\n",
        "\n",
        "safety_settings = [\n",
        "  {\n",
        "    \"category\": \"HARM_CATEGORY_HARASSMENT\",\n",
        "    \"threshold\": \"BLOCK_LOW_AND_ABOVE\"\n",
        "  },\n",
        "  {\n",
        "    \"category\": \"HARM_CATEGORY_HATE_SPEECH\",\n",
        "    \"threshold\": \"BLOCK_LOW_AND_ABOVE\"\n",
        "  },\n",
        "  {\n",
        "    \"category\": \"HARM_CATEGORY_SEXUALLY_EXPLICIT\",\n",
        "    \"threshold\": \"BLOCK_LOW_AND_ABOVE\"\n",
        "  },\n",
        "  {\n",
        "    \"category\": \"HARM_CATEGORY_DANGEROUS_CONTENT\",\n",
        "    \"threshold\": \"BLOCK_LOW_AND_ABOVE\"\n",
        "  },\n",
        "]\n",
        "\n",
        "system_instruction = \"\"\"Você é um chat bot usado em ingrejas evangélicas para\n",
        "responder questionamentos com embasamento bíblico evangélico,\n",
        "logo suas respostas devem ser baseadas na Bíblia Sagrada Evangélica e\n",
        "sempre utilizar de versículos para responder.\n",
        "Você não deve responder a perguntas que não tem relação com a Bíblia.\"\"\"\n",
        "\n",
        "model = genai.GenerativeModel(model_name=\"gemini-1.5-pro-latest\",\n",
        "                              generation_config=generation_config,\n",
        "                              system_instruction=system_instruction,\n",
        "                              safety_settings=safety_settings)"
      ],
      "metadata": {
        "id": "YDOdrAJATqkz"
      },
      "execution_count": null,
      "outputs": []
    },
    {
      "cell_type": "markdown",
      "source": [
        "# Criação do Chat 2"
      ],
      "metadata": {
        "id": "Ly8mp_RjrdpN"
      }
    },
    {
      "cell_type": "code",
      "source": [
        "chat = model.start_chat(history=[])"
      ],
      "metadata": {
        "id": "RSJ6YpisT1Nm"
      },
      "execution_count": null,
      "outputs": []
    },
    {
      "cell_type": "markdown",
      "source": [
        "# UTILIZE OS CHATS!"
      ],
      "metadata": {
        "id": "xwZCgQ7-vYd0"
      }
    },
    {
      "cell_type": "markdown",
      "source": [
        "# Utilize o CHAT 1:"
      ],
      "metadata": {
        "id": "HNZIkFegqcUt"
      }
    },
    {
      "cell_type": "code",
      "source": [
        "while True:\n",
        "  prompt = input(\"Digite aqui: \").lower().strip()\n",
        "  print('-' * 150)\n",
        "\n",
        "  if prompt == \"fim\":\n",
        "    break\n",
        "\n",
        "  response = consult(prompt)\n",
        "\n",
        "  # user\n",
        "  display(markdown(f'\\n**user**: {prompt}'))\n",
        "  print('-' * 150)\n",
        "\n",
        "  # model\n",
        "  display(markdown(f'\\n**model**: {response}'))\n",
        "  print('-' * 150)"
      ],
      "metadata": {
        "id": "8YCBRND_mDpz"
      },
      "execution_count": null,
      "outputs": []
    },
    {
      "cell_type": "markdown",
      "source": [
        "# Utilize o CHAT 2:"
      ],
      "metadata": {
        "id": "KRXGYncFq9pL"
      }
    },
    {
      "cell_type": "code",
      "source": [
        "while True:\n",
        "  prompt = input(\"Digite aqui: \").lower().strip()\n",
        "  print('-' * 150)\n",
        "\n",
        "  if prompt == \"fim\":\n",
        "    break\n",
        "\n",
        "  response = chat.send_message(prompt)\n",
        "\n",
        "  # user\n",
        "  user_message = chat.history[-2]\n",
        "  display(markdown(f'\\n**user**: {user_message.parts[0].text}'))\n",
        "  print('-' * 150)\n",
        "\n",
        "  # model\n",
        "  model_message = chat.history[-1]\n",
        "  display(markdown(f'\\n**model**: {model_message.parts[0].text}'))\n",
        "  print('-' * 150)"
      ],
      "metadata": {
        "id": "fGvBfQ-iUU8f"
      },
      "execution_count": null,
      "outputs": []
    }
  ]
}