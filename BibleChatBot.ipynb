{
  "nbformat": 4,
  "nbformat_minor": 0,
  "metadata": {
    "colab": {
      "provenance": [],
      "authorship_tag": "ABX9TyNNKVDQe1oR3IrjuDDdwK8Y",
      "include_colab_link": true
    },
    "kernelspec": {
      "name": "python3",
      "display_name": "Python 3"
    },
    "language_info": {
      "name": "python"
    }
  },
  "cells": [
    {
      "cell_type": "markdown",
      "metadata": {
        "id": "view-in-github",
        "colab_type": "text"
      },
      "source": [
        "<a href=\"https://colab.research.google.com/github/joaopfusco/bible-chatbot/blob/main/BibleChatBot.ipynb\" target=\"_parent\"><img src=\"https://colab.research.google.com/assets/colab-badge.svg\" alt=\"Open In Colab\"/></a>"
      ]
    },
    {
      "cell_type": "markdown",
      "source": [
        "# Instalação da api do google"
      ],
      "metadata": {
        "id": "T7TLKHkmofw0"
      }
    },
    {
      "cell_type": "code",
      "execution_count": null,
      "metadata": {
        "id": "ACvr_oMyRXdJ"
      },
      "outputs": [],
      "source": [
        "!pip install -q -U google-generativeai"
      ]
    },
    {
      "cell_type": "markdown",
      "source": [
        "# Importação das Bibliotecas Necessárias para Utilização do ChatBot"
      ],
      "metadata": {
        "id": "LNJR5LE4oonY"
      }
    },
    {
      "cell_type": "code",
      "source": [
        "from google.colab import userdata\n",
        "import google.generativeai as genai\n",
        "import textwrap\n",
        "from IPython.display import display, Markdown\n",
        "import numpy as np\n",
        "import pandas as pd"
      ],
      "metadata": {
        "id": "KaZGa0aqVk-C"
      },
      "execution_count": null,
      "outputs": []
    },
    {
      "cell_type": "markdown",
      "source": [
        "# Configurando GenAI com API Key"
      ],
      "metadata": {
        "id": "OcyTBGX_ozjV"
      }
    },
    {
      "cell_type": "code",
      "source": [
        "api_key = userdata.get('API_KEY')\n",
        "genai.configure(api_key=api_key)"
      ],
      "metadata": {
        "id": "f0FaK4L4TPdT"
      },
      "execution_count": null,
      "outputs": []
    },
    {
      "cell_type": "markdown",
      "source": [
        "# Função de MarkDown para melhor vizualização"
      ],
      "metadata": {
        "id": "UFv_CgMgq0kf"
      }
    },
    {
      "cell_type": "code",
      "source": [
        "def markdown(text):\n",
        "  text = text.replace('•', ' *')\n",
        "  return Markdown(textwrap.indent(text, '> ', predicate=lambda _ : True))"
      ],
      "metadata": {
        "id": "-s431-6iVyAE"
      },
      "execution_count": null,
      "outputs": []
    },
    {
      "cell_type": "markdown",
      "source": [
        "# Dois Chats\n",
        "\n",
        "*   Chat 1: utiliza do embedding para consultas mais precisas relacionadas\n",
        "aos quatro primeiros evangelhos do Novo Testamento (Mateus, Marcos, Lucas e João)\n",
        "*   Chat 2: conhecimento geral da Bíblia Sagrada para perguntas gerais sobre\n",
        "o Evangelho\n",
        "\n"
      ],
      "metadata": {
        "id": "3pxBktsWo_ni"
      }
    },
    {
      "cell_type": "markdown",
      "source": [
        "# CHAT 1"
      ],
      "metadata": {
        "id": "Jm3uKzIop_we"
      }
    },
    {
      "cell_type": "markdown",
      "source": [
        "# Definição da lista de Documentos sobre os quatro primeiros evangelhos do Novo Testamento"
      ],
      "metadata": {
        "id": "n5FKC6O8psQV"
      }
    },
    {
      "cell_type": "code",
      "source": [
        "documents = [\n",
        "  {\n",
        "    \"title\": \"Evangelho segundo Marcos\",\n",
        "    \"content\": \"O Evangelho segundo Marcos apresenta a história de Jesus Cristo, Filho de Deus, começando com o ministério de João Batista e o batismo de Jesus. Marcos destaca as ações e milagres de Jesus, como curas, exorcismos e a multiplicação dos pães. Ele enfatiza a autoridade de Jesus em seu ensino e seus confrontos com as autoridades religiosas da época. O evangelho culmina com a Paixão, morte e ressurreição de Jesus, enfatizando o significado da sua morte sacrificial e a importância da fé nele.\"\n",
        "  },\n",
        "  {\n",
        "    \"title\": \"Evangelho segundo Lucas\",\n",
        "    \"content\": \"O Evangelho de Lucas oferece uma narrativa detalhada da vida e ministério de Jesus Cristo. Dirigido a Teófilo, o evangelho traça a linhagem de Jesus, narrando seu nascimento, infância e batismo. Lucas enfatiza a compaixão de Jesus pelos pobres e marginalizados, destacando seus ensinamentos sobre o amor, o perdão e a importância da oração. O evangelho culmina com a entrada triunfal de Jesus em Jerusalém, sua Paixão, morte e ressurreição, culminando com sua ascensão ao céu.\"\n",
        "  },\n",
        "  {\n",
        "    \"title\": \"Evangelho segundo João\",\n",
        "    \"content\": \"O Evangelho de João apresenta uma perspectiva única sobre Jesus, enfatizando sua divindade como a Palavra de Deus encarnada. O evangelho destaca os \\\"sinais\\\" ou milagres de Jesus como demonstrações de sua glória, levando as pessoas à fé. João enfatiza o amor de Jesus por seus discípulos e seus ensinamentos sobre o Espírito Santo como consolador. A narrativa culmina com a Paixão, morte e ressurreição de Jesus, enfatizando o significado de sua morte como sacrifício pela vida do mundo.\"\n",
        "  },\n",
        "  {\n",
        "    \"title\": \"Evangelho Segundo Mateus\",\n",
        "    \"content\": \"O Evangelho de Mateus apresenta Jesus como o Messias prometido, cumprindo as profecias do Antigo Testamento. O evangelho traça a linhagem de Jesus de volta a Abraão e narra seu nascimento miraculoso, fuga para o Egito e retorno a Nazaré. Mateus enfatiza o ensino de Jesus, incluindo o Sermão da Montanha, e organiza o evangelho em torno de cinco discursos principais. O evangelho culmina com a Paixão, morte e ressurreição de Jesus, enfatizando a importância de sua missão e o estabelecimento de sua Igreja.\"\n",
        "  }\n",
        "]"
      ],
      "metadata": {
        "id": "Ce2glTkQina_"
      },
      "execution_count": null,
      "outputs": []
    },
    {
      "cell_type": "markdown",
      "source": [
        "# Criação do DataFrame e Função de Consulta"
      ],
      "metadata": {
        "id": "nmTJ_iJSqPAu"
      }
    },
    {
      "cell_type": "code",
      "source": [
        "def embed(title, text):\n",
        "  return genai.embed_content(model='models/embedding-001',\n",
        "                              title=title,\n",
        "                              content=text,\n",
        "                              task_type='RETRIEVAL_DOCUMENT')['embedding']"
      ],
      "metadata": {
        "id": "0RhpDyAZjQ4G"
      },
      "execution_count": null,
      "outputs": []
    },
    {
      "cell_type": "code",
      "source": [
        "def consult(consulta):\n",
        "  embedding = genai.embed_content(model='models/embedding-001',\n",
        "                              content=consulta,\n",
        "                              task_type='RETRIEVAL_QUERY')['embedding']\n",
        "  produts = np.dot(np.stack(df['Embeddings']), embedding)\n",
        "  indice = np.argmax(produts)\n",
        "  return df.iloc[indice]['Conteúdo']"
      ],
      "metadata": {
        "id": "xWNdYPPWkrb-"
      },
      "execution_count": null,
      "outputs": []
    },
    {
      "cell_type": "code",
      "source": [
        "df = pd.DataFrame(documents)\n",
        "df.columns = ['Título', 'Conteúdo']\n",
        "df['Embeddings'] = df.apply(lambda row: embed(row['Título'], row['Conteúdo']), axis=1)\n",
        "df"
      ],
      "metadata": {
        "colab": {
          "base_uri": "https://localhost:8080/",
          "height": 175
        },
        "id": "v7bk-RmDi4dx",
        "outputId": "070ffc3a-5b23-4109-bdc7-0a47a42e8138"
      },
      "execution_count": null,
      "outputs": [
        {
          "output_type": "execute_result",
          "data": {
            "text/plain": [
              "                     Título  \\\n",
              "0  Evangelho segundo Marcos   \n",
              "1   Evangelho segundo Lucas   \n",
              "2    Evangelho segundo João   \n",
              "3  Evangelho Segundo Mateus   \n",
              "\n",
              "                                            Conteúdo  \\\n",
              "0  O Evangelho segundo Marcos apresenta a históri...   \n",
              "1  O Evangelho de Lucas oferece uma narrativa det...   \n",
              "2  O Evangelho de João apresenta uma perspectiva ...   \n",
              "3  O Evangelho de Mateus apresenta Jesus como o M...   \n",
              "\n",
              "                                          Embeddings  \n",
              "0  [0.030564092, 0.0013099123, -0.00015965244, 0....  \n",
              "1  [0.022944307, -0.0021225389, -0.008358223, 0.0...  \n",
              "2  [0.008585023, 0.017833365, -0.0129430685, 0.04...  \n",
              "3  [0.015044541, -0.010776557, -0.033780534, 0.05...  "
            ],
            "text/html": [
              "\n",
              "  <div id=\"df-62a375a6-a267-4f2b-862e-4e4c5573e5f7\" class=\"colab-df-container\">\n",
              "    <div>\n",
              "<style scoped>\n",
              "    .dataframe tbody tr th:only-of-type {\n",
              "        vertical-align: middle;\n",
              "    }\n",
              "\n",
              "    .dataframe tbody tr th {\n",
              "        vertical-align: top;\n",
              "    }\n",
              "\n",
              "    .dataframe thead th {\n",
              "        text-align: right;\n",
              "    }\n",
              "</style>\n",
              "<table border=\"1\" class=\"dataframe\">\n",
              "  <thead>\n",
              "    <tr style=\"text-align: right;\">\n",
              "      <th></th>\n",
              "      <th>Título</th>\n",
              "      <th>Conteúdo</th>\n",
              "      <th>Embeddings</th>\n",
              "    </tr>\n",
              "  </thead>\n",
              "  <tbody>\n",
              "    <tr>\n",
              "      <th>0</th>\n",
              "      <td>Evangelho segundo Marcos</td>\n",
              "      <td>O Evangelho segundo Marcos apresenta a históri...</td>\n",
              "      <td>[0.030564092, 0.0013099123, -0.00015965244, 0....</td>\n",
              "    </tr>\n",
              "    <tr>\n",
              "      <th>1</th>\n",
              "      <td>Evangelho segundo Lucas</td>\n",
              "      <td>O Evangelho de Lucas oferece uma narrativa det...</td>\n",
              "      <td>[0.022944307, -0.0021225389, -0.008358223, 0.0...</td>\n",
              "    </tr>\n",
              "    <tr>\n",
              "      <th>2</th>\n",
              "      <td>Evangelho segundo João</td>\n",
              "      <td>O Evangelho de João apresenta uma perspectiva ...</td>\n",
              "      <td>[0.008585023, 0.017833365, -0.0129430685, 0.04...</td>\n",
              "    </tr>\n",
              "    <tr>\n",
              "      <th>3</th>\n",
              "      <td>Evangelho Segundo Mateus</td>\n",
              "      <td>O Evangelho de Mateus apresenta Jesus como o M...</td>\n",
              "      <td>[0.015044541, -0.010776557, -0.033780534, 0.05...</td>\n",
              "    </tr>\n",
              "  </tbody>\n",
              "</table>\n",
              "</div>\n",
              "    <div class=\"colab-df-buttons\">\n",
              "\n",
              "  <div class=\"colab-df-container\">\n",
              "    <button class=\"colab-df-convert\" onclick=\"convertToInteractive('df-62a375a6-a267-4f2b-862e-4e4c5573e5f7')\"\n",
              "            title=\"Convert this dataframe to an interactive table.\"\n",
              "            style=\"display:none;\">\n",
              "\n",
              "  <svg xmlns=\"http://www.w3.org/2000/svg\" height=\"24px\" viewBox=\"0 -960 960 960\">\n",
              "    <path d=\"M120-120v-720h720v720H120Zm60-500h600v-160H180v160Zm220 220h160v-160H400v160Zm0 220h160v-160H400v160ZM180-400h160v-160H180v160Zm440 0h160v-160H620v160ZM180-180h160v-160H180v160Zm440 0h160v-160H620v160Z\"/>\n",
              "  </svg>\n",
              "    </button>\n",
              "\n",
              "  <style>\n",
              "    .colab-df-container {\n",
              "      display:flex;\n",
              "      gap: 12px;\n",
              "    }\n",
              "\n",
              "    .colab-df-convert {\n",
              "      background-color: #E8F0FE;\n",
              "      border: none;\n",
              "      border-radius: 50%;\n",
              "      cursor: pointer;\n",
              "      display: none;\n",
              "      fill: #1967D2;\n",
              "      height: 32px;\n",
              "      padding: 0 0 0 0;\n",
              "      width: 32px;\n",
              "    }\n",
              "\n",
              "    .colab-df-convert:hover {\n",
              "      background-color: #E2EBFA;\n",
              "      box-shadow: 0px 1px 2px rgba(60, 64, 67, 0.3), 0px 1px 3px 1px rgba(60, 64, 67, 0.15);\n",
              "      fill: #174EA6;\n",
              "    }\n",
              "\n",
              "    .colab-df-buttons div {\n",
              "      margin-bottom: 4px;\n",
              "    }\n",
              "\n",
              "    [theme=dark] .colab-df-convert {\n",
              "      background-color: #3B4455;\n",
              "      fill: #D2E3FC;\n",
              "    }\n",
              "\n",
              "    [theme=dark] .colab-df-convert:hover {\n",
              "      background-color: #434B5C;\n",
              "      box-shadow: 0px 1px 3px 1px rgba(0, 0, 0, 0.15);\n",
              "      filter: drop-shadow(0px 1px 2px rgba(0, 0, 0, 0.3));\n",
              "      fill: #FFFFFF;\n",
              "    }\n",
              "  </style>\n",
              "\n",
              "    <script>\n",
              "      const buttonEl =\n",
              "        document.querySelector('#df-62a375a6-a267-4f2b-862e-4e4c5573e5f7 button.colab-df-convert');\n",
              "      buttonEl.style.display =\n",
              "        google.colab.kernel.accessAllowed ? 'block' : 'none';\n",
              "\n",
              "      async function convertToInteractive(key) {\n",
              "        const element = document.querySelector('#df-62a375a6-a267-4f2b-862e-4e4c5573e5f7');\n",
              "        const dataTable =\n",
              "          await google.colab.kernel.invokeFunction('convertToInteractive',\n",
              "                                                    [key], {});\n",
              "        if (!dataTable) return;\n",
              "\n",
              "        const docLinkHtml = 'Like what you see? Visit the ' +\n",
              "          '<a target=\"_blank\" href=https://colab.research.google.com/notebooks/data_table.ipynb>data table notebook</a>'\n",
              "          + ' to learn more about interactive tables.';\n",
              "        element.innerHTML = '';\n",
              "        dataTable['output_type'] = 'display_data';\n",
              "        await google.colab.output.renderOutput(dataTable, element);\n",
              "        const docLink = document.createElement('div');\n",
              "        docLink.innerHTML = docLinkHtml;\n",
              "        element.appendChild(docLink);\n",
              "      }\n",
              "    </script>\n",
              "  </div>\n",
              "\n",
              "\n",
              "<div id=\"df-b7409473-4045-4e79-9f7a-15c4609419fd\">\n",
              "  <button class=\"colab-df-quickchart\" onclick=\"quickchart('df-b7409473-4045-4e79-9f7a-15c4609419fd')\"\n",
              "            title=\"Suggest charts\"\n",
              "            style=\"display:none;\">\n",
              "\n",
              "<svg xmlns=\"http://www.w3.org/2000/svg\" height=\"24px\"viewBox=\"0 0 24 24\"\n",
              "     width=\"24px\">\n",
              "    <g>\n",
              "        <path d=\"M19 3H5c-1.1 0-2 .9-2 2v14c0 1.1.9 2 2 2h14c1.1 0 2-.9 2-2V5c0-1.1-.9-2-2-2zM9 17H7v-7h2v7zm4 0h-2V7h2v10zm4 0h-2v-4h2v4z\"/>\n",
              "    </g>\n",
              "</svg>\n",
              "  </button>\n",
              "\n",
              "<style>\n",
              "  .colab-df-quickchart {\n",
              "      --bg-color: #E8F0FE;\n",
              "      --fill-color: #1967D2;\n",
              "      --hover-bg-color: #E2EBFA;\n",
              "      --hover-fill-color: #174EA6;\n",
              "      --disabled-fill-color: #AAA;\n",
              "      --disabled-bg-color: #DDD;\n",
              "  }\n",
              "\n",
              "  [theme=dark] .colab-df-quickchart {\n",
              "      --bg-color: #3B4455;\n",
              "      --fill-color: #D2E3FC;\n",
              "      --hover-bg-color: #434B5C;\n",
              "      --hover-fill-color: #FFFFFF;\n",
              "      --disabled-bg-color: #3B4455;\n",
              "      --disabled-fill-color: #666;\n",
              "  }\n",
              "\n",
              "  .colab-df-quickchart {\n",
              "    background-color: var(--bg-color);\n",
              "    border: none;\n",
              "    border-radius: 50%;\n",
              "    cursor: pointer;\n",
              "    display: none;\n",
              "    fill: var(--fill-color);\n",
              "    height: 32px;\n",
              "    padding: 0;\n",
              "    width: 32px;\n",
              "  }\n",
              "\n",
              "  .colab-df-quickchart:hover {\n",
              "    background-color: var(--hover-bg-color);\n",
              "    box-shadow: 0 1px 2px rgba(60, 64, 67, 0.3), 0 1px 3px 1px rgba(60, 64, 67, 0.15);\n",
              "    fill: var(--button-hover-fill-color);\n",
              "  }\n",
              "\n",
              "  .colab-df-quickchart-complete:disabled,\n",
              "  .colab-df-quickchart-complete:disabled:hover {\n",
              "    background-color: var(--disabled-bg-color);\n",
              "    fill: var(--disabled-fill-color);\n",
              "    box-shadow: none;\n",
              "  }\n",
              "\n",
              "  .colab-df-spinner {\n",
              "    border: 2px solid var(--fill-color);\n",
              "    border-color: transparent;\n",
              "    border-bottom-color: var(--fill-color);\n",
              "    animation:\n",
              "      spin 1s steps(1) infinite;\n",
              "  }\n",
              "\n",
              "  @keyframes spin {\n",
              "    0% {\n",
              "      border-color: transparent;\n",
              "      border-bottom-color: var(--fill-color);\n",
              "      border-left-color: var(--fill-color);\n",
              "    }\n",
              "    20% {\n",
              "      border-color: transparent;\n",
              "      border-left-color: var(--fill-color);\n",
              "      border-top-color: var(--fill-color);\n",
              "    }\n",
              "    30% {\n",
              "      border-color: transparent;\n",
              "      border-left-color: var(--fill-color);\n",
              "      border-top-color: var(--fill-color);\n",
              "      border-right-color: var(--fill-color);\n",
              "    }\n",
              "    40% {\n",
              "      border-color: transparent;\n",
              "      border-right-color: var(--fill-color);\n",
              "      border-top-color: var(--fill-color);\n",
              "    }\n",
              "    60% {\n",
              "      border-color: transparent;\n",
              "      border-right-color: var(--fill-color);\n",
              "    }\n",
              "    80% {\n",
              "      border-color: transparent;\n",
              "      border-right-color: var(--fill-color);\n",
              "      border-bottom-color: var(--fill-color);\n",
              "    }\n",
              "    90% {\n",
              "      border-color: transparent;\n",
              "      border-bottom-color: var(--fill-color);\n",
              "    }\n",
              "  }\n",
              "</style>\n",
              "\n",
              "  <script>\n",
              "    async function quickchart(key) {\n",
              "      const quickchartButtonEl =\n",
              "        document.querySelector('#' + key + ' button');\n",
              "      quickchartButtonEl.disabled = true;  // To prevent multiple clicks.\n",
              "      quickchartButtonEl.classList.add('colab-df-spinner');\n",
              "      try {\n",
              "        const charts = await google.colab.kernel.invokeFunction(\n",
              "            'suggestCharts', [key], {});\n",
              "      } catch (error) {\n",
              "        console.error('Error during call to suggestCharts:', error);\n",
              "      }\n",
              "      quickchartButtonEl.classList.remove('colab-df-spinner');\n",
              "      quickchartButtonEl.classList.add('colab-df-quickchart-complete');\n",
              "    }\n",
              "    (() => {\n",
              "      let quickchartButtonEl =\n",
              "        document.querySelector('#df-b7409473-4045-4e79-9f7a-15c4609419fd button');\n",
              "      quickchartButtonEl.style.display =\n",
              "        google.colab.kernel.accessAllowed ? 'block' : 'none';\n",
              "    })();\n",
              "  </script>\n",
              "</div>\n",
              "\n",
              "  <div id=\"id_83361d97-e34f-4a87-bb23-0f635b742bcc\">\n",
              "    <style>\n",
              "      .colab-df-generate {\n",
              "        background-color: #E8F0FE;\n",
              "        border: none;\n",
              "        border-radius: 50%;\n",
              "        cursor: pointer;\n",
              "        display: none;\n",
              "        fill: #1967D2;\n",
              "        height: 32px;\n",
              "        padding: 0 0 0 0;\n",
              "        width: 32px;\n",
              "      }\n",
              "\n",
              "      .colab-df-generate:hover {\n",
              "        background-color: #E2EBFA;\n",
              "        box-shadow: 0px 1px 2px rgba(60, 64, 67, 0.3), 0px 1px 3px 1px rgba(60, 64, 67, 0.15);\n",
              "        fill: #174EA6;\n",
              "      }\n",
              "\n",
              "      [theme=dark] .colab-df-generate {\n",
              "        background-color: #3B4455;\n",
              "        fill: #D2E3FC;\n",
              "      }\n",
              "\n",
              "      [theme=dark] .colab-df-generate:hover {\n",
              "        background-color: #434B5C;\n",
              "        box-shadow: 0px 1px 3px 1px rgba(0, 0, 0, 0.15);\n",
              "        filter: drop-shadow(0px 1px 2px rgba(0, 0, 0, 0.3));\n",
              "        fill: #FFFFFF;\n",
              "      }\n",
              "    </style>\n",
              "    <button class=\"colab-df-generate\" onclick=\"generateWithVariable('df')\"\n",
              "            title=\"Generate code using this dataframe.\"\n",
              "            style=\"display:none;\">\n",
              "\n",
              "  <svg xmlns=\"http://www.w3.org/2000/svg\" height=\"24px\"viewBox=\"0 0 24 24\"\n",
              "       width=\"24px\">\n",
              "    <path d=\"M7,19H8.4L18.45,9,17,7.55,7,17.6ZM5,21V16.75L18.45,3.32a2,2,0,0,1,2.83,0l1.4,1.43a1.91,1.91,0,0,1,.58,1.4,1.91,1.91,0,0,1-.58,1.4L9.25,21ZM18.45,9,17,7.55Zm-12,3A5.31,5.31,0,0,0,4.9,8.1,5.31,5.31,0,0,0,1,6.5,5.31,5.31,0,0,0,4.9,4.9,5.31,5.31,0,0,0,6.5,1,5.31,5.31,0,0,0,8.1,4.9,5.31,5.31,0,0,0,12,6.5,5.46,5.46,0,0,0,6.5,12Z\"/>\n",
              "  </svg>\n",
              "    </button>\n",
              "    <script>\n",
              "      (() => {\n",
              "      const buttonEl =\n",
              "        document.querySelector('#id_83361d97-e34f-4a87-bb23-0f635b742bcc button.colab-df-generate');\n",
              "      buttonEl.style.display =\n",
              "        google.colab.kernel.accessAllowed ? 'block' : 'none';\n",
              "\n",
              "      buttonEl.onclick = () => {\n",
              "        google.colab.notebook.generateWithVariable('df');\n",
              "      }\n",
              "      })();\n",
              "    </script>\n",
              "  </div>\n",
              "\n",
              "    </div>\n",
              "  </div>\n"
            ],
            "application/vnd.google.colaboratory.intrinsic+json": {
              "type": "dataframe",
              "variable_name": "df",
              "summary": "{\n  \"name\": \"df\",\n  \"rows\": 4,\n  \"fields\": [\n    {\n      \"column\": \"T\\u00edtulo\",\n      \"properties\": {\n        \"dtype\": \"string\",\n        \"num_unique_values\": 4,\n        \"samples\": [\n          \"Evangelho segundo Lucas\",\n          \"Evangelho Segundo Mateus\",\n          \"Evangelho segundo Marcos\"\n        ],\n        \"semantic_type\": \"\",\n        \"description\": \"\"\n      }\n    },\n    {\n      \"column\": \"Conte\\u00fado\",\n      \"properties\": {\n        \"dtype\": \"string\",\n        \"num_unique_values\": 4,\n        \"samples\": [\n          \"O Evangelho de Lucas oferece uma narrativa detalhada da vida e minist\\u00e9rio de Jesus Cristo. Dirigido a Te\\u00f3filo, o evangelho tra\\u00e7a a linhagem de Jesus, narrando seu nascimento, inf\\u00e2ncia e batismo. Lucas enfatiza a compaix\\u00e3o de Jesus pelos pobres e marginalizados, destacando seus ensinamentos sobre o amor, o perd\\u00e3o e a import\\u00e2ncia da ora\\u00e7\\u00e3o. O evangelho culmina com a entrada triunfal de Jesus em Jerusal\\u00e9m, sua Paix\\u00e3o, morte e ressurrei\\u00e7\\u00e3o, culminando com sua ascens\\u00e3o ao c\\u00e9u.\",\n          \"O Evangelho de Mateus apresenta Jesus como o Messias prometido, cumprindo as profecias do Antigo Testamento. O evangelho tra\\u00e7a a linhagem de Jesus de volta a Abra\\u00e3o e narra seu nascimento miraculoso, fuga para o Egito e retorno a Nazar\\u00e9. Mateus enfatiza o ensino de Jesus, incluindo o Serm\\u00e3o da Montanha, e organiza o evangelho em torno de cinco discursos principais. O evangelho culmina com a Paix\\u00e3o, morte e ressurrei\\u00e7\\u00e3o de Jesus, enfatizando a import\\u00e2ncia de sua miss\\u00e3o e o estabelecimento de sua Igreja.\",\n          \"O Evangelho segundo Marcos apresenta a hist\\u00f3ria de Jesus Cristo, Filho de Deus, come\\u00e7ando com o minist\\u00e9rio de Jo\\u00e3o Batista e o batismo de Jesus. Marcos destaca as a\\u00e7\\u00f5es e milagres de Jesus, como curas, exorcismos e a multiplica\\u00e7\\u00e3o dos p\\u00e3es. Ele enfatiza a autoridade de Jesus em seu ensino e seus confrontos com as autoridades religiosas da \\u00e9poca. O evangelho culmina com a Paix\\u00e3o, morte e ressurrei\\u00e7\\u00e3o de Jesus, enfatizando o significado da sua morte sacrificial e a import\\u00e2ncia da f\\u00e9 nele.\"\n        ],\n        \"semantic_type\": \"\",\n        \"description\": \"\"\n      }\n    },\n    {\n      \"column\": \"Embeddings\",\n      \"properties\": {\n        \"dtype\": \"object\",\n        \"semantic_type\": \"\",\n        \"description\": \"\"\n      }\n    }\n  ]\n}"
            }
          },
          "metadata": {},
          "execution_count": 45
        }
      ]
    },
    {
      "cell_type": "markdown",
      "source": [
        "# CHAT 2"
      ],
      "metadata": {
        "id": "xYqcah-kqii4"
      }
    },
    {
      "cell_type": "markdown",
      "source": [
        "# Configurações inicias do modelo"
      ],
      "metadata": {
        "id": "c1ROIFLXqmtD"
      }
    },
    {
      "cell_type": "code",
      "source": [
        "generation_config = {\n",
        "  \"temperature\": 1,\n",
        "  \"top_p\": 0.95,\n",
        "  \"top_k\": 0,\n",
        "  \"max_output_tokens\": 8192,\n",
        "}\n",
        "\n",
        "safety_settings = [\n",
        "  {\n",
        "    \"category\": \"HARM_CATEGORY_HARASSMENT\",\n",
        "    \"threshold\": \"BLOCK_LOW_AND_ABOVE\"\n",
        "  },\n",
        "  {\n",
        "    \"category\": \"HARM_CATEGORY_HATE_SPEECH\",\n",
        "    \"threshold\": \"BLOCK_LOW_AND_ABOVE\"\n",
        "  },\n",
        "  {\n",
        "    \"category\": \"HARM_CATEGORY_SEXUALLY_EXPLICIT\",\n",
        "    \"threshold\": \"BLOCK_LOW_AND_ABOVE\"\n",
        "  },\n",
        "  {\n",
        "    \"category\": \"HARM_CATEGORY_DANGEROUS_CONTENT\",\n",
        "    \"threshold\": \"BLOCK_LOW_AND_ABOVE\"\n",
        "  },\n",
        "]\n",
        "\n",
        "system_instruction = \"\"\"Você é um chat bot usado em ingrejas evangélicas para\n",
        "responder questionamentos com embasamento bíblico evangélico,\n",
        "logo suas respostas devem ser baseadas na Bíblia Sagrada Evangélica e\n",
        "sempre utilizar de versículos para responder.\n",
        "Você não deve responder a perguntas que não tem relação com a Bíblia.\"\"\"\n",
        "\n",
        "model = genai.GenerativeModel(model_name=\"gemini-1.5-pro-latest\",\n",
        "                              generation_config=generation_config,\n",
        "                              system_instruction=system_instruction,\n",
        "                              safety_settings=safety_settings)"
      ],
      "metadata": {
        "id": "YDOdrAJATqkz"
      },
      "execution_count": null,
      "outputs": []
    },
    {
      "cell_type": "markdown",
      "source": [
        "# Criação do Chat 2"
      ],
      "metadata": {
        "id": "Ly8mp_RjrdpN"
      }
    },
    {
      "cell_type": "code",
      "source": [
        "chat = model.start_chat(history=[])"
      ],
      "metadata": {
        "id": "RSJ6YpisT1Nm"
      },
      "execution_count": null,
      "outputs": []
    },
    {
      "cell_type": "markdown",
      "source": [
        "# UTILIZE OS CHATS!"
      ],
      "metadata": {
        "id": "xwZCgQ7-vYd0"
      }
    },
    {
      "cell_type": "markdown",
      "source": [
        "# Utilize o CHAT 1:"
      ],
      "metadata": {
        "id": "HNZIkFegqcUt"
      }
    },
    {
      "cell_type": "code",
      "source": [
        "while True:\n",
        "  prompt = input(\"Digite aqui: \").lower().strip()\n",
        "  print('-' * 150)\n",
        "\n",
        "  if prompt == \"fim\":\n",
        "    break\n",
        "\n",
        "  response = consult(prompt)\n",
        "\n",
        "  # user\n",
        "  display(markdown(f'\\n**user**: {prompt}'))\n",
        "  print('-' * 150)\n",
        "\n",
        "  # model\n",
        "  display(markdown(f'\\n**model**: {response}'))\n",
        "  print('-' * 150)"
      ],
      "metadata": {
        "id": "8YCBRND_mDpz"
      },
      "execution_count": null,
      "outputs": []
    },
    {
      "cell_type": "markdown",
      "source": [
        "# Utilize o CHAT 2:"
      ],
      "metadata": {
        "id": "KRXGYncFq9pL"
      }
    },
    {
      "cell_type": "code",
      "source": [
        "while True:\n",
        "  prompt = input(\"Digite aqui: \").lower().strip()\n",
        "  print('-' * 150)\n",
        "\n",
        "  if prompt == \"fim\":\n",
        "    break\n",
        "\n",
        "  response = chat.send_message(prompt)\n",
        "\n",
        "  # user\n",
        "  user_message = chat.history[-2]\n",
        "  display(markdown(f'\\n**user**: {user_message.parts[0].text}'))\n",
        "  print('-' * 150)\n",
        "\n",
        "  # model\n",
        "  model_message = chat.history[-1]\n",
        "  display(markdown(f'\\n**model**: {model_message.parts[0].text}'))\n",
        "  print('-' * 150)"
      ],
      "metadata": {
        "id": "fGvBfQ-iUU8f"
      },
      "execution_count": null,
      "outputs": []
    }
  ]
}